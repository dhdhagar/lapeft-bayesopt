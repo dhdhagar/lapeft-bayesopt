{
 "cells": [
  {
   "cell_type": "code",
   "execution_count": 3,
   "id": "8b27d816-42cd-4676-a688-60307599473d",
   "metadata": {},
   "outputs": [],
   "source": [
    "import pandas as pd\n",
    "import json"
   ]
  },
  {
   "cell_type": "code",
   "execution_count": 17,
   "id": "9e2fa872-15a3-45f1-bded-2f7cfa3c1615",
   "metadata": {},
   "outputs": [],
   "source": [
    "dev = pd.read_json(path_or_buf='../data/twentyquestions/twentyquestions-dev.jsonl', lines=True)"
   ]
  },
  {
   "cell_type": "code",
   "execution_count": 30,
   "id": "423df9d0-be55-4d91-8989-bec7175e7f6b",
   "metadata": {},
   "outputs": [],
   "source": [
    "dev_1000 = dev.sample(n=2000, random_state=42)[\"subject\"].unique()[:1000]\n",
    "assert len(dev_1000) == 1000\n",
    "assert all(len(d.split())==1 for d in dev_1000)"
   ]
  },
  {
   "cell_type": "code",
   "execution_count": 34,
   "id": "0c9deaee-cf10-4fed-a75e-c0371adf8806",
   "metadata": {
    "scrolled": true
   },
   "outputs": [],
   "source": [
    "pd.DataFrame({\"Words\": dev_1000}).to_csv('../data/twentyquestions/dev-1000.csv', index=False)"
   ]
  }
 ],
 "metadata": {
  "kernelspec": {
   "display_name": "Python 3 (ipykernel)",
   "language": "python",
   "name": "python3"
  },
  "language_info": {
   "codemirror_mode": {
    "name": "ipython",
    "version": 3
   },
   "file_extension": ".py",
   "mimetype": "text/x-python",
   "name": "python",
   "nbconvert_exporter": "python",
   "pygments_lexer": "ipython3",
   "version": "3.11.8"
  }
 },
 "nbformat": 4,
 "nbformat_minor": 5
}
