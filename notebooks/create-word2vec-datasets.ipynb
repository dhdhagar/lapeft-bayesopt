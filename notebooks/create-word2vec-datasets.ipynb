{
 "cells": [
  {
   "cell_type": "code",
   "execution_count": 49,
   "id": "d89d97a5-b991-4994-80bd-55e04da7e3a9",
   "metadata": {},
   "outputs": [],
   "source": [
    "import pandas as pd\n",
    "import json\n",
    "import gensim.downloader\n",
    "import os\n",
    "import random\n",
    "random.seed(42)"
   ]
  },
  {
   "cell_type": "code",
   "execution_count": 2,
   "id": "5edc9324-2e79-4add-9331-9f390a6c2ffa",
   "metadata": {},
   "outputs": [],
   "source": [
    "vectors = gensim.downloader.load('word2vec-google-news-300')"
   ]
  },
  {
   "cell_type": "code",
   "execution_count": 17,
   "id": "0273f426-54c1-4f2e-bc62-a5acc6de924b",
   "metadata": {},
   "outputs": [
    {
     "name": "stdout",
     "output_type": "stream",
     "text": [
      "15403\n",
      "4655\n"
     ]
    }
   ],
   "source": [
    "# Get words from 20q dev set\n",
    "dev_20q = pd.read_json(path_or_buf='../data/twentyquestions/twentyquestions-dev.jsonl', lines=True)\n",
    "print(len(dev_20q))\n",
    "words_20q = dev_20q[\"subject\"].unique().tolist()\n",
    "print(len(words_20q))"
   ]
  },
  {
   "cell_type": "code",
   "execution_count": 31,
   "id": "16bcc4f7-92de-4515-b19c-609fbf1c6e33",
   "metadata": {},
   "outputs": [
    {
     "data": {
      "text/plain": [
       "4514"
      ]
     },
     "execution_count": 31,
     "metadata": {},
     "output_type": "execute_result"
    }
   ],
   "source": [
    "# Filter words not in the pretrained word2vec list\n",
    "words_20q = [w for w in words_20q if vectors.has_index_for(w)]\n",
    "len(words_20q)"
   ]
  },
  {
   "cell_type": "code",
   "execution_count": 32,
   "id": "bc118815-a6a2-4aaa-bdc4-c2345a0e3a72",
   "metadata": {},
   "outputs": [],
   "source": [
    "assert all(len(w.split())==1 for w in words_20q)"
   ]
  },
  {
   "cell_type": "code",
   "execution_count": 33,
   "id": "1cb31687-0d6d-4c82-b0fb-aec7eac1cb18",
   "metadata": {},
   "outputs": [],
   "source": [
    "test_words = ['computer', 'papa', 'trees', 'child', 'sax', 'crane', 'meatloaf', 'birthstone', 'polyethylene', 'cement']"
   ]
  },
  {
   "cell_type": "code",
   "execution_count": 34,
   "id": "9b4091a0-e4be-4a9d-b8f0-550eb2c133ee",
   "metadata": {},
   "outputs": [],
   "source": [
    "assert all([w in words_20q for w in test_words])"
   ]
  },
  {
   "cell_type": "code",
   "execution_count": 50,
   "id": "288f9b50-8836-48b7-bba0-619a2e08431c",
   "metadata": {},
   "outputs": [],
   "source": [
    "dataset_sizes = [2000, 3000, 4000]\n",
    "datatsets = {}\n",
    "for sz in dataset_sizes:\n",
    "    words_sz = random.sample(list(set(words_20q) - set(test_words)), sz - len(test_words))\n",
    "    words_sz += test_words\n",
    "    random.shuffle(words_sz)\n",
    "    assert len(words_sz) == sz\n",
    "    datatsets[sz] = words_sz"
   ]
  },
  {
   "cell_type": "code",
   "execution_count": 56,
   "id": "4a7bed81-7eea-4d94-b408-92b19a1de5d1",
   "metadata": {
    "scrolled": true
   },
   "outputs": [],
   "source": [
    "for sz, dataset in datatsets.items():\n",
    "    os.makedirs(f'../data/twentyquestions/datasets/word2vec-{sz}', exist_ok=True)\n",
    "    for test in test_words:\n",
    "        similarities = []\n",
    "        # Compute cosine sims\n",
    "        for w in dataset:\n",
    "            sim = vectors.similarity(test, w)\n",
    "            similarities.append(sim)\n",
    "        # 0-1 normalization\n",
    "        similarities = [(sim - min(similarities)) / (max(similarities) - min(similarities)) for sim in similarities]\n",
    "        tups = list(zip(dataset, similarities))\n",
    "        # Sort list in descending order of similarity\n",
    "        tups.sort(key=lambda x: -x[1])\n",
    "        word_dataset = [{'Words': t[0], 'Similarity': t[1]} for t in tups]\n",
    "        # Save dataset as a csv\n",
    "        pd.DataFrame(word_dataset).to_csv(f'../data/twentyquestions/datasets/word2vec-{sz}/{test}.csv', index=False)"
   ]
  },
  {
   "cell_type": "code",
   "execution_count": null,
   "id": "8314f364-d385-4f14-a82e-3fe4b29d3549",
   "metadata": {
    "scrolled": true
   },
   "outputs": [],
   "source": []
  },
  {
   "cell_type": "code",
   "execution_count": null,
   "id": "d6f58e71-dbe5-4e3b-b42d-3e256108629c",
   "metadata": {},
   "outputs": [],
   "source": []
  }
 ],
 "metadata": {
  "kernelspec": {
   "display_name": "Python 3 (ipykernel)",
   "language": "python",
   "name": "python3"
  },
  "language_info": {
   "codemirror_mode": {
    "name": "ipython",
    "version": 3
   },
   "file_extension": ".py",
   "mimetype": "text/x-python",
   "name": "python",
   "nbconvert_exporter": "python",
   "pygments_lexer": "ipython3",
   "version": "3.11.8"
  }
 },
 "nbformat": 4,
 "nbformat_minor": 5
}
